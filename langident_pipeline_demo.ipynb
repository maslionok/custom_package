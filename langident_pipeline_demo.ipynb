{
  "nbformat": 4,
  "nbformat_minor": 0,
  "metadata": {
    "colab": {
      "provenance": []
    },
    "kernelspec": {
      "name": "python3",
      "display_name": "Python 3"
    },
    "language_info": {
      "name": "python"
    }
  },
  "cells": [
    {
      "cell_type": "markdown",
      "source": [
        "# Language Identification with Impresso Package"
      ],
      "metadata": {
        "id": "AlxKbkly00q4"
      }
    },
    {
      "cell_type": "markdown",
      "source": [
        "### What is this notebook about?"
      ],
      "metadata": {
        "id": "9dBRT6Lg0_3X"
      }
    },
    {
      "cell_type": "markdown",
      "source": [
        "\n",
        "This notebook demonstrates how to use the language identification subpackage `langident` from the Impresso Python package. This subpackage allows to detect the language of a given text and provides simple diagnostic features to analyze the decection process."
      ],
      "metadata": {
        "id": "gOPUj_re9h1n"
      }
    },
    {
      "cell_type": "markdown",
      "source": [
        "### Prerequisites"
      ],
      "metadata": {
        "id": "fI_rST2p1-4Y"
      }
    },
    {
      "cell_type": "markdown",
      "source": [
        "First, you should install Impresso package:"
      ],
      "metadata": {
        "id": "8u3KMaCE9fqa"
      }
    },
    {
      "cell_type": "code",
      "execution_count": null,
      "metadata": {
        "colab": {
          "base_uri": "https://localhost:8080/"
        },
        "collapsed": true,
        "id": "QctlGqvC0KuO",
        "outputId": "0545ba43-382c-4ed4-c2ac-a8d6852059df"
      },
      "outputs": [
        {
          "output_type": "stream",
          "name": "stdout",
          "text": [
            "Requirement already satisfied: glebs_package in /usr/local/lib/python3.11/dist-packages (1.2.2)\n",
            "Requirement already satisfied: cython in /usr/local/lib/python3.11/dist-packages (from glebs_package) (3.0.12)\n",
            "Requirement already satisfied: pybloomfiltermmap3 in /usr/local/lib/python3.11/dist-packages (from glebs_package) (0.6.0)\n",
            "Requirement already satisfied: huggingface_hub in /usr/local/lib/python3.11/dist-packages (from glebs_package) (0.28.1)\n",
            "Requirement already satisfied: floret in /usr/local/lib/python3.11/dist-packages (from glebs_package) (0.10.5)\n",
            "Requirement already satisfied: numpy in /usr/local/lib/python3.11/dist-packages (from floret->glebs_package) (1.26.4)\n",
            "Requirement already satisfied: filelock in /usr/local/lib/python3.11/dist-packages (from huggingface_hub->glebs_package) (3.17.0)\n",
            "Requirement already satisfied: fsspec>=2023.5.0 in /usr/local/lib/python3.11/dist-packages (from huggingface_hub->glebs_package) (2024.10.0)\n",
            "Requirement already satisfied: packaging>=20.9 in /usr/local/lib/python3.11/dist-packages (from huggingface_hub->glebs_package) (24.2)\n",
            "Requirement already satisfied: pyyaml>=5.1 in /usr/local/lib/python3.11/dist-packages (from huggingface_hub->glebs_package) (6.0.2)\n",
            "Requirement already satisfied: requests in /usr/local/lib/python3.11/dist-packages (from huggingface_hub->glebs_package) (2.32.3)\n",
            "Requirement already satisfied: tqdm>=4.42.1 in /usr/local/lib/python3.11/dist-packages (from huggingface_hub->glebs_package) (4.67.1)\n",
            "Requirement already satisfied: typing-extensions>=3.7.4.3 in /usr/local/lib/python3.11/dist-packages (from huggingface_hub->glebs_package) (4.12.2)\n",
            "Requirement already satisfied: charset-normalizer<4,>=2 in /usr/local/lib/python3.11/dist-packages (from requests->huggingface_hub->glebs_package) (3.4.1)\n",
            "Requirement already satisfied: idna<4,>=2.5 in /usr/local/lib/python3.11/dist-packages (from requests->huggingface_hub->glebs_package) (3.10)\n",
            "Requirement already satisfied: urllib3<3,>=1.21.1 in /usr/local/lib/python3.11/dist-packages (from requests->huggingface_hub->glebs_package) (2.3.0)\n",
            "Requirement already satisfied: certifi>=2017.4.17 in /usr/local/lib/python3.11/dist-packages (from requests->huggingface_hub->glebs_package) (2025.1.31)\n"
          ]
        }
      ],
      "source": [
        "!pip install glebs_package"
      ]
    },
    {
      "cell_type": "markdown",
      "source": [
        "---\n",
        "### Basic usage"
      ],
      "metadata": {
        "id": "Dv2GMCHV25y5"
      }
    },
    {
      "cell_type": "markdown",
      "source": [
        "By default, the pipeline automatically selects the most recent language identification model from the Impresso HF repository: `impresso-project/impresso-floret-langident`."
      ],
      "metadata": {
        "id": "0ToYPc3H4kk7"
      }
    },
    {
      "cell_type": "code",
      "source": [
        "# Start by importing the necessary module from Impresso package\n",
        "from glebs_package.langident import LangIdentPipeline\n",
        "lang_pipeline = LangIdentPipeline()"
      ],
      "metadata": {
        "id": "EtitCAr93Apc"
      },
      "execution_count": null,
      "outputs": []
    },
    {
      "cell_type": "markdown",
      "source": [
        "Once you initialize the pipeline, you can simply provide the text you'd like to classify. This example demonstrates the use of German text."
      ],
      "metadata": {
        "id": "Oui-HWvY3ZBi"
      }
    },
    {
      "cell_type": "code",
      "source": [
        "de_text = \"Ein kleiner Hund namens Max lebte in einem ruhigen Dorf. Jeden Tag rannte er durch die Straßen und spielte mit den Kindern. Eines Tages fand er einen geheimen Garten, den niemand kannte. Max entschied sich, den Garten zu erkunden und entdeckte viele schöne Blumen und Tiere. Von diesem Tag an besuchte er den Garten jeden Nachmittag.\""
      ],
      "metadata": {
        "id": "MtQ3v9c33NI7"
      },
      "execution_count": null,
      "outputs": []
    },
    {
      "cell_type": "code",
      "source": [
        "lang_pipeline(de_text)"
      ],
      "metadata": {
        "colab": {
          "base_uri": "https://localhost:8080/"
        },
        "id": "tko-ibcv3zJy",
        "outputId": "b0e00c26-bc01-4b76-9a55-3d5e9601fcff"
      },
      "execution_count": null,
      "outputs": [
        {
          "output_type": "execute_result",
          "data": {
            "text/plain": [
              "{'language': 'de', 'score': 1.0}"
            ]
          },
          "metadata": {},
          "execution_count": 17
        }
      ]
    },
    {
      "cell_type": "markdown",
      "source": [
        "The default output of the pipeline is a dictionary containing the top predicted language and its corresponding score (expressed as a probability). The score is rounded to three decimal places for better readability. Please note that the probabilities for all supported languages add up to 1 (by default, only the top language is returned).\n",
        "\n",
        "As shown, the pipeline uses the language identification model to correctly classify this text as German, with a rounded probability of 100%."
      ],
      "metadata": {
        "id": "VKhiiYDR4DHH"
      }
    },
    {
      "cell_type": "markdown",
      "source": [
        "---\n",
        "### Advanced Initialization"
      ],
      "metadata": {
        "id": "9DB6YPK16mkT"
      }
    },
    {
      "cell_type": "markdown",
      "source": [
        "The module initialization allows you to pass additional arguments to use a specific model instead of the default one. These arguments include `model_id`, `repo_id`, and `revision`.\n",
        "\n",
        "*   `model_id`: Specifies the name of the model.\n",
        "*   `repo_id`: Specifies the repository where the model is located.\n",
        "\n",
        "*   `revision`: Specifies the branch name of the repository.\n",
        "\n",
        "By providing all three, you can force the pipeline to use the language model you have specified."
      ],
      "metadata": {
        "id": "D8akaEac67WX"
      }
    },
    {
      "cell_type": "code",
      "source": [
        "from glebs_package.langident import LangIdentPipeline # There's no need to import the module again if it has already been imported\n",
        "lang_pipeline = LangIdentPipeline(model_id=\"langident-v1.0.0.bin\", repo_id=\"impresso-project/impresso-floret-langident\", revision=\"adding_emas_pipeline\")"
      ],
      "metadata": {
        "id": "XRdWbmfd6TH5"
      },
      "execution_count": null,
      "outputs": []
    },
    {
      "cell_type": "code",
      "source": [
        "# Using text example from before\n",
        "lang_pipeline(de_text)"
      ],
      "metadata": {
        "colab": {
          "base_uri": "https://localhost:8080/"
        },
        "id": "VILeEY1e9EU3",
        "outputId": "cf67086f-a6ac-4527-f1f9-6bc8bde5dd79"
      },
      "execution_count": null,
      "outputs": [
        {
          "output_type": "execute_result",
          "data": {
            "text/plain": [
              "{'language': 'de', 'score': 1.0}"
            ]
          },
          "metadata": {},
          "execution_count": 18
        }
      ]
    },
    {
      "cell_type": "markdown",
      "source": [
        "Once again, we see the same pipeline output as before."
      ],
      "metadata": {
        "id": "bbqtvL7h9PwF"
      }
    },
    {
      "cell_type": "markdown",
      "source": [
        "---\n",
        "### Advanced usage"
      ],
      "metadata": {
        "id": "uOTaGXLI65Bg"
      }
    },
    {
      "cell_type": "markdown",
      "source": [
        "When using the pipeline with text, you can additionally specify two parameters: `diagnostics` and `model_id`.\n",
        "\n",
        "\n",
        "*   `diagnostics`: A boolean value. If set to True, it returns not only the top predicted language but also all languages that the model can detect, along with their corresponding scores.\n",
        "\n",
        "*   `model_id`: A boolean value. If set to True, it returns the name of the model used to identify the language of the text."
      ],
      "metadata": {
        "id": "mNYo2bvQ_c1G"
      }
    },
    {
      "cell_type": "markdown",
      "source": [
        "Here we skip the part of module importing and initialization as it was done above."
      ],
      "metadata": {
        "id": "a-1eYVtbAMoA"
      }
    },
    {
      "cell_type": "code",
      "source": [
        "# Using text example from before\n",
        "lang_pipeline(de_text, diagnostics=True)"
      ],
      "metadata": {
        "colab": {
          "base_uri": "https://localhost:8080/"
        },
        "id": "wzgB6bEW66qD",
        "outputId": "1d5adf70-ae2a-4347-f4e7-ede87a5db6a2"
      },
      "execution_count": null,
      "outputs": [
        {
          "output_type": "execute_result",
          "data": {
            "text/plain": [
              "{'language': 'de',\n",
              " 'score': 1.0,\n",
              " 'diagnostics': {'language_dist': [{'language': 'de', 'score': 1.0},\n",
              "   {'language': 'it', 'score': 0.0},\n",
              "   {'language': 'fr', 'score': 0.0},\n",
              "   {'language': 'lb', 'score': 0.0},\n",
              "   {'language': 'en', 'score': 0.0}]}}"
            ]
          },
          "metadata": {},
          "execution_count": 19
        }
      ]
    },
    {
      "cell_type": "markdown",
      "source": [
        "As shown, it returns a `language_dict` containing a list of all supported languages and their corresponding scores. Since the text is purely in German, all other scores are 0.0."
      ],
      "metadata": {
        "id": "Zx_4AeK-CO56"
      }
    },
    {
      "cell_type": "markdown",
      "source": [
        "Below is example of a mixed text:"
      ],
      "metadata": {
        "id": "sTIBgZY6C3Od"
      }
    },
    {
      "cell_type": "code",
      "source": [
        "mixed_text = \"Ein kleiner Hund namens Max lebte in einem ruhigen Dorf. Jeden Tag rannte er durch die Straßen und spielte mit den Kindern. Eines Tages fand er einen geheimen Garten, den niemand kannte. Max entschied sich, den Garten zu erkunden und entdeckte viele schöne Blumen und Tiere. Von diesem Tag an besuchte er den Garten jeden Nachmittag. Le soleil se couchait doucement sur la ville. Les rues étaient calmes, et les oiseaux chantaient leurs dernières chansons avant la nuit. Marie se promenait tranquillement, appréciant la beauté du moment.\""
      ],
      "metadata": {
        "id": "GRnC8oXuC8kg"
      },
      "execution_count": null,
      "outputs": []
    },
    {
      "cell_type": "code",
      "source": [
        "lang_pipeline(mixed_text, diagnostics=True)"
      ],
      "metadata": {
        "colab": {
          "base_uri": "https://localhost:8080/"
        },
        "id": "j59q6T_JDEKT",
        "outputId": "030a18f3-0270-45b8-8a57-6558488c225f"
      },
      "execution_count": null,
      "outputs": [
        {
          "output_type": "execute_result",
          "data": {
            "text/plain": [
              "{'language': 'de',\n",
              " 'score': 0.77,\n",
              " 'diagnostics': {'language_dist': [{'language': 'de', 'score': 0.77},\n",
              "   {'language': 'fr', 'score': 0.21},\n",
              "   {'language': 'it', 'score': 0.02},\n",
              "   {'language': 'lb', 'score': 0.0},\n",
              "   {'language': 'en', 'score': 0.0}]}}"
            ]
          },
          "metadata": {},
          "execution_count": 21
        }
      ]
    },
    {
      "cell_type": "markdown",
      "source": [
        "As shown, this time the model clearly identifies some French and even Italian, but the top predicted language is still German."
      ],
      "metadata": {
        "id": "O128P703DKcv"
      }
    },
    {
      "cell_type": "markdown",
      "source": [
        "Below is an example of using `model_id` with and without `diagnostics`."
      ],
      "metadata": {
        "id": "m5BQ5tbfDd61"
      }
    },
    {
      "cell_type": "code",
      "source": [
        "lang_pipeline(de_text, model_id=True)"
      ],
      "metadata": {
        "colab": {
          "base_uri": "https://localhost:8080/"
        },
        "id": "VxkhiBmBDIYV",
        "outputId": "6c21f95f-f90b-4aed-b8f3-758024eaffaf"
      },
      "execution_count": null,
      "outputs": [
        {
          "output_type": "execute_result",
          "data": {
            "text/plain": [
              "{'language': 'de', 'score': 1.0, 'model_name': 'langident-v1.0.0.bin'}"
            ]
          },
          "metadata": {},
          "execution_count": 23
        }
      ]
    },
    {
      "cell_type": "code",
      "source": [
        "lang_pipeline(de_text, model_id=True, diagnostics=True)"
      ],
      "metadata": {
        "colab": {
          "base_uri": "https://localhost:8080/"
        },
        "id": "AI6HUfC4DsA8",
        "outputId": "16a62524-de0f-474b-b1c5-8a93f85264f3"
      },
      "execution_count": null,
      "outputs": [
        {
          "output_type": "execute_result",
          "data": {
            "text/plain": [
              "{'language': 'de',\n",
              " 'score': 1.0,\n",
              " 'diagnostics': {'language_dist': [{'language': 'de', 'score': 1.0},\n",
              "   {'language': 'it', 'score': 0.0},\n",
              "   {'language': 'fr', 'score': 0.0},\n",
              "   {'language': 'lb', 'score': 0.0},\n",
              "   {'language': 'en', 'score': 0.0}]},\n",
              " 'model_name': 'langident-v1.0.0.bin'}"
            ]
          },
          "metadata": {},
          "execution_count": 24
        }
      ]
    },
    {
      "cell_type": "markdown",
      "source": [
        "In both cases, we can see an additional key, `model_name`, which stores the name of the language identification model used by the pipeline."
      ],
      "metadata": {
        "id": "oiToPyATDzdU"
      }
    },
    {
      "cell_type": "markdown",
      "source": [
        "---\n",
        "### Edge cases"
      ],
      "metadata": {
        "id": "s9bnUx-JE9l3"
      }
    },
    {
      "cell_type": "markdown",
      "source": [
        "As demonstrated, this pipeline struggles to detect the language correctly when the text is too short. This issue becomes even more apparent when the words used are not highly language-specific. Additionally, the model faces difficulties with short sentences containing unusual names. As a general rule, the longer the text sample, the better the detection accuracy.\n",
        "\n",
        "Below are all three examples:"
      ],
      "metadata": {
        "id": "DQqVYaB_FCG3"
      }
    },
    {
      "cell_type": "code",
      "source": [
        "short_fr_text = \"Je mange.\""
      ],
      "metadata": {
        "id": "22Bs7eSrFA_I"
      },
      "execution_count": null,
      "outputs": []
    },
    {
      "cell_type": "code",
      "source": [
        "short_de_text = \"Der Computer auf dem Tisch funktioniert gut.\""
      ],
      "metadata": {
        "id": "dI5kI--oGIuU"
      },
      "execution_count": null,
      "outputs": []
    },
    {
      "cell_type": "code",
      "source": [
        "short_de_text_with_unusual_name = \"Gleb geht ins Büro.\""
      ],
      "metadata": {
        "id": "Goc7TiWLGm4h"
      },
      "execution_count": null,
      "outputs": []
    },
    {
      "cell_type": "code",
      "source": [
        "# Example 1: Very short sentence\n",
        "lang_pipeline(short_fr_text, diagnostics=True)"
      ],
      "metadata": {
        "colab": {
          "base_uri": "https://localhost:8080/"
        },
        "id": "HDtaVKXlFl-K",
        "outputId": "26ebee5f-2c81-4fa5-acad-43d4d50e75b4"
      },
      "execution_count": null,
      "outputs": [
        {
          "output_type": "execute_result",
          "data": {
            "text/plain": [
              "{'language': 'fr',\n",
              " 'score': 0.67,\n",
              " 'diagnostics': {'language_dist': [{'language': 'fr', 'score': 0.67},\n",
              "   {'language': 'lb', 'score': 0.33},\n",
              "   {'language': 'de', 'score': 0.0},\n",
              "   {'language': 'it', 'score': 0.0},\n",
              "   {'language': 'en', 'score': 0.0}]}}"
            ]
          },
          "metadata": {},
          "execution_count": 31
        }
      ]
    },
    {
      "cell_type": "code",
      "source": [
        "# Exaple 2: Not language specific sentence\n",
        "lang_pipeline(short_de_text, diagnostics=True)"
      ],
      "metadata": {
        "colab": {
          "base_uri": "https://localhost:8080/"
        },
        "id": "9qhlLkM6Fo8W",
        "outputId": "8fac9c00-d000-4006-b58a-3c75e1c51683"
      },
      "execution_count": null,
      "outputs": [
        {
          "output_type": "execute_result",
          "data": {
            "text/plain": [
              "{'language': 'de',\n",
              " 'score': 0.61,\n",
              " 'diagnostics': {'language_dist': [{'language': 'de', 'score': 0.61},\n",
              "   {'language': 'lb', 'score': 0.38},\n",
              "   {'language': 'it', 'score': 0.01},\n",
              "   {'language': 'en', 'score': 0.0},\n",
              "   {'language': 'fr', 'score': 0.0}]}}"
            ]
          },
          "metadata": {},
          "execution_count": 33
        }
      ]
    },
    {
      "cell_type": "code",
      "source": [
        "# Example 3: Short sentence and unsual name\n",
        "lang_pipeline(short_de_text_with_unusual_name, diagnostics=True)"
      ],
      "metadata": {
        "colab": {
          "base_uri": "https://localhost:8080/"
        },
        "id": "KKnCcz7IGqME",
        "outputId": "7b31a2da-1d08-489d-dbc9-ff036581e114"
      },
      "execution_count": null,
      "outputs": [
        {
          "output_type": "execute_result",
          "data": {
            "text/plain": [
              "{'language': 'lb',\n",
              " 'score': 0.52,\n",
              " 'diagnostics': {'language_dist': [{'language': 'lb', 'score': 0.52},\n",
              "   {'language': 'de', 'score': 0.43},\n",
              "   {'language': 'en', 'score': 0.04},\n",
              "   {'language': 'it', 'score': 0.01},\n",
              "   {'language': 'fr', 'score': 0.0}]}}"
            ]
          },
          "metadata": {},
          "execution_count": 38
        }
      ]
    },
    {
      "cell_type": "markdown",
      "source": [
        "As seen above, although the probabilities are very low, the pipeline successfully predicts the correct language in the first two cases (short French text and non-language-specific German text). However, it predicts the wrong language in the third example, where the sentence is both short and contains an unusual non-German name.\n",
        "\n",
        "This example clearly demonstrates that longer and more language-specific sentences lead to much more accurate and certain classifications."
      ],
      "metadata": {
        "id": "t2T9zzzoGM8t"
      }
    }
  ]
}